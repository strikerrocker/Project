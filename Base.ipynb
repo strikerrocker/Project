{
 "cells": [
  {
   "cell_type": "code",
   "execution_count": 3,
   "id": "c8028d71",
   "metadata": {},
   "outputs": [],
   "source": [
    "import numpy as np\n",
    "import matplotlib.pyplot as plt\n",
    "import seaborn as sns\n",
    "%matplotlib inline\n",
    "\n",
    "import cv2\n",
    "import os\n",
    "os.environ[\"TF_CPP_MIN_LOG_LEVEL\"] = \"2\"\n",
    "import warnings\n",
    "warnings.filterwarnings('ignore')\n",
    "\n",
    "from sklearn.metrics import confusion_matrix, classification_report\n",
    "\n",
    "import tensorflow as tf\n",
    "from tensorflow.keras.models import Sequential\n",
    "from tensorflow.keras.layers import Activation, BatchNormalization, Conv2D, Dense, Dropout, Flatten, MaxPooling2D\n",
    "from tensorflow.keras.preprocessing.image import ImageDataGenerator\n",
    "from tensorflow.keras.optimizers import Adam\n",
    "from tensorflow.keras.losses import CategoricalCrossentropy\n",
    "from tensorflow.keras.regularizers import l2\n",
    "from tensorflow.keras.callbacks import ReduceLROnPlateau, EarlyStopping"
   ]
  },
  {
   "cell_type": "code",
   "execution_count": 5,
   "id": "f1ac590c",
   "metadata": {},
   "outputs": [
    {
     "name": "stdout",
     "output_type": "stream",
     "text": [
      "Found 745 images belonging to 4 classes.\n",
      "Found 183 images belonging to 4 classes.\n"
     ]
    }
   ],
   "source": [
    "img_height = 277\n",
    "img_width = 277\n",
    "batch_size = 128\n",
    "data_path = \"./dataset/Cropped/\"\n",
    "train_output_directory = \"./dataset/Augmented/train/\"\n",
    "validation_output_directory = \"./dataset/Augmented/validation/\"\n",
    "# os.removedirs(train_output_directory)\n",
    "# os.removedirs(validation_output_directory)\n",
    "# os.makedirs(train_output_directory)\n",
    "# os.makedirs(validation_output_directory)\n",
    "train_datagen = ImageDataGenerator(rescale=1./255,\n",
    "    rotation_range=10,\n",
    "    horizontal_flip=True,\n",
    "    vertical_flip=True,\n",
    "    width_shift_range=0.1,\n",
    "    height_shift_range=0.1,\n",
    "    validation_split=0.2) # set validation split\n",
    "\n",
    "train_generator = train_datagen.flow_from_directory(\n",
    "    directory=data_path,\n",
    "    save_to_dir=train_output_directory,\n",
    "    target_size=(img_height, img_width),\n",
    "    batch_size=batch_size,\n",
    "    class_mode='categorical',\n",
    "    subset='training') # set as training data\n",
    "\n",
    "validation_generator = train_datagen.flow_from_directory(\n",
    "    directory=data_path,\n",
    "    save_to_dir=validation_output_directory,\n",
    "    target_size=(img_height, img_width),\n",
    "    batch_size=batch_size,\n",
    "    class_mode='categorical',\n",
    "    subset='validation') # set as validation data"
   ]
  },
  {
   "cell_type": "code",
   "execution_count": 6,
   "id": "dae81a64",
   "metadata": {},
   "outputs": [
    {
     "data": {
      "text/plain": [
       "'2.10.1'"
      ]
     },
     "execution_count": 6,
     "metadata": {},
     "output_type": "execute_result"
    }
   ],
   "source": [
    "tf.__version__"
   ]
  },
  {
   "cell_type": "code",
   "execution_count": 8,
   "id": "d8f68024",
   "metadata": {},
   "outputs": [],
   "source": [
    "# Calculate the total number of augmented images\n",
    "total_images = 0\n",
    "augmented_filenames = []\n",
    "\n",
    "for _ in range(1):\n",
    "    # The generator produces a batch of augmented images each time it's called\n",
    "    images, filenames = next(train_generator)\n",
    "    total_images += images.shape[0]\n",
    "    augmented_filenames.extend(filenames)"
   ]
  },
  {
   "cell_type": "code",
   "execution_count": null,
   "id": "f024cd08",
   "metadata": {},
   "outputs": [],
   "source": []
  }
 ],
 "metadata": {
  "kernelspec": {
   "display_name": "Python 3 (ipykernel)",
   "language": "python",
   "name": "python3"
  },
  "language_info": {
   "codemirror_mode": {
    "name": "ipython",
    "version": 3
   },
   "file_extension": ".py",
   "mimetype": "text/x-python",
   "name": "python",
   "nbconvert_exporter": "python",
   "pygments_lexer": "ipython3",
   "version": "3.10.9"
  }
 },
 "nbformat": 4,
 "nbformat_minor": 5
}
